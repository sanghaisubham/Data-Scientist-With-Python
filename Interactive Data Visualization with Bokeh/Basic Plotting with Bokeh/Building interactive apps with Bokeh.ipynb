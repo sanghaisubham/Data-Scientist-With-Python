{
 "cells": [
  {
   "cell_type": "markdown",
   "metadata": {},
   "source": [
    "The main purpose of the Bokeh server is to synchronize python objects with web applications in a browser, so that rich, interactive data applications can be connected to powerful PyData libraries such as NumPy, SciPy, Pandas, and scikit-learn.Bokeh server will automatically keep every property of any Bokeh object in sync."
   ]
  },
  {
   "cell_type": "markdown",
   "metadata": {},
   "source": [
    "## Using the current document\n",
    "\n",
    "Let's get started with building an interactive Bokeh app. This typically begins with importing the curdoc, or \"current document\", function from bokeh.io. This current document will eventually hold all the plots, controls, and layouts that we create. Our job in this exercise is to use this function to add a single plot to our application."
   ]
  },
  {
   "cell_type": "code",
   "execution_count": 1,
   "metadata": {
    "collapsed": true
   },
   "outputs": [],
   "source": [
    "# Perform necessary imports\n",
    "from bokeh.io import curdoc\n",
    "from bokeh.plotting import figure\n",
    "\n",
    "# Create a new plot: plot\n",
    "plot = figure()\n",
    "\n",
    "# Add a line to the plot\n",
    "plot.line(x=[1,2,3,4,5],y=[2,5,4,6,7])\n",
    "\n",
    "# Add the plot to the current document\n",
    "curdoc().add_root(plot)"
   ]
  },
  {
   "cell_type": "raw",
   "metadata": {},
   "source": [
    "bokeh serve --show myapp.py"
   ]
  },
  {
   "cell_type": "markdown",
   "metadata": {},
   "source": [
    "## Add a single slider"
   ]
  },
  {
   "cell_type": "code",
   "execution_count": 5,
   "metadata": {
    "collapsed": true
   },
   "outputs": [],
   "source": [
    "# Perform the necessary imports\n",
    "from bokeh.io import curdoc\n",
    "from bokeh.layouts import widgetbox\n",
    "from bokeh.models import Slider\n",
    "\n",
    "# Create a slider: slider\n",
    "slider = Slider(title='my slider',start=0, end=10, step=0.1, value=2)\n",
    "\n",
    "# Create a widgetbox layout: layout\n",
    "layout = widgetbox(slider)\n",
    "\n",
    "# Add the layout to the current document\n",
    "curdoc().add_root(layout)\n"
   ]
  },
  {
   "cell_type": "markdown",
   "metadata": {},
   "source": [
    "# Connecting sliders to plots"
   ]
  },
  {
   "cell_type": "markdown",
   "metadata": {},
   "source": [
    "### Adding callbacks to sliders\n",
    "\n",
    "Callbacks are functions that a user can define, like def callback(attr, old, new), that can be called automatically when some property of a Bokeh object (e.g., the value of a Slider) changes. \n",
    "A callback is added by calling myslider.on_change('value', callback)\n",
    "\n",
    "\n",
    "\n",
    "Our job is to first explicitly create a ColumnDataSource.We'll then combine a plot and a slider into a single column layout, and add it to the current document.After we are done, notice how in the figure we generate, the slider will not actually update the plot, because a widget callback has not been defined. we'll learn how to update the plot using widget callbacks in the next code.\n",
    "We'll then combine a plot and a slider into a single column layout, and add it to the current document."
   ]
  },
  {
   "cell_type": "code",
   "execution_count": 7,
   "metadata": {
    "collapsed": true
   },
   "outputs": [],
   "source": [
    "x=[  0.3       ,   0.33244147,   0.36488294,   0.39732441,\n",
    "         0.42976589,   0.46220736,   0.49464883,   0.5270903 ,\n",
    "         0.55953177,   0.59197324,   0.62441472,   0.65685619,\n",
    "         0.68929766,   0.72173913,   0.7541806 ,   0.78662207,\n",
    "         0.81906355,   0.85150502,   0.88394649,   0.91638796,\n",
    "         0.94882943,   0.9812709 ,   1.01371237,   1.04615385,\n",
    "         1.07859532,   1.11103679,   1.14347826,   1.17591973,\n",
    "         1.2083612 ,   1.24080268,   1.27324415,   1.30568562,\n",
    "         1.33812709,   1.37056856,   1.40301003,   1.43545151,\n",
    "         1.46789298,   1.50033445,   1.53277592,   1.56521739,\n",
    "         1.59765886,   1.63010033,   1.66254181,   1.69498328,\n",
    "         1.72742475,   1.75986622,   1.79230769,   1.82474916,\n",
    "         1.85719064,   1.88963211,   1.92207358,   1.95451505,\n",
    "         1.98695652,   2.01939799,   2.05183946,   2.08428094,\n",
    "         2.11672241,   2.14916388,   2.18160535,   2.21404682,\n",
    "         2.24648829,   2.27892977,   2.31137124,   2.34381271,\n",
    "         2.37625418,   2.40869565,   2.44113712,   2.4735786 ,\n",
    "         2.50602007,   2.53846154,   2.57090301,   2.60334448,\n",
    "         2.63578595,   2.66822742,   2.7006689 ,   2.73311037,\n",
    "         2.76555184,   2.79799331,   2.83043478,   2.86287625,\n",
    "         2.89531773,   2.9277592 ,   2.96020067,   2.99264214,\n",
    "         3.02508361,   3.05752508,   3.08996656,   3.12240803,\n",
    "         3.1548495 ,   3.18729097,   3.21973244,   3.25217391,\n",
    "         3.28461538,   3.31705686,   3.34949833,   3.3819398 ,\n",
    "         3.41438127,   3.44682274,   3.47926421,   3.51170569,\n",
    "         3.54414716,   3.57658863,   3.6090301 ,   3.64147157,\n",
    "         3.67391304,   3.70635452,   3.73879599,   3.77123746,\n",
    "         3.80367893,   3.8361204 ,   3.86856187,   3.90100334,\n",
    "         3.93344482,   3.96588629,   3.99832776,   4.03076923,\n",
    "         4.0632107 ,   4.09565217,   4.12809365,   4.16053512,\n",
    "         4.19297659,   4.22541806,   4.25785953,   4.290301  ,\n",
    "         4.32274247,   4.35518395,   4.38762542,   4.42006689,\n",
    "         4.45250836,   4.48494983,   4.5173913 ,   4.54983278,\n",
    "         4.58227425,   4.61471572,   4.64715719,   4.67959866,\n",
    "         4.71204013,   4.74448161,   4.77692308,   4.80936455,\n",
    "         4.84180602,   4.87424749,   4.90668896,   4.93913043,\n",
    "         4.97157191,   5.00401338,   5.03645485,   5.06889632,\n",
    "         5.10133779,   5.13377926,   5.16622074,   5.19866221,\n",
    "         5.23110368,   5.26354515,   5.29598662,   5.32842809,\n",
    "         5.36086957,   5.39331104,   5.42575251,   5.45819398,\n",
    "         5.49063545,   5.52307692,   5.55551839,   5.58795987,\n",
    "         5.62040134,   5.65284281,   5.68528428,   5.71772575,\n",
    "         5.75016722,   5.7826087 ,   5.81505017,   5.84749164,\n",
    "         5.87993311,   5.91237458,   5.94481605,   5.97725753,\n",
    "         6.009699  ,   6.04214047,   6.07458194,   6.10702341,\n",
    "         6.13946488,   6.17190635,   6.20434783,   6.2367893 ,\n",
    "         6.26923077,   6.30167224,   6.33411371,   6.36655518,\n",
    "         6.39899666,   6.43143813,   6.4638796 ,   6.49632107,\n",
    "         6.52876254,   6.56120401,   6.59364548,   6.62608696,\n",
    "         6.65852843,   6.6909699 ,   6.72341137,   6.75585284,\n",
    "         6.78829431,   6.82073579,   6.85317726,   6.88561873,\n",
    "         6.9180602 ,   6.95050167,   6.98294314,   7.01538462,\n",
    "         7.04782609,   7.08026756,   7.11270903,   7.1451505 ,\n",
    "         7.17759197,   7.21003344,   7.24247492,   7.27491639,\n",
    "         7.30735786,   7.33979933,   7.3722408 ,   7.40468227,\n",
    "         7.43712375,   7.46956522,   7.50200669,   7.53444816,\n",
    "         7.56688963,   7.5993311 ,   7.63177258,   7.66421405,\n",
    "         7.69665552,   7.72909699,   7.76153846,   7.79397993,\n",
    "         7.8264214 ,   7.85886288,   7.89130435,   7.92374582,\n",
    "         7.95618729,   7.98862876,   8.02107023,   8.05351171,\n",
    "         8.08595318,   8.11839465,   8.15083612,   8.18327759,\n",
    "         8.21571906,   8.24816054,   8.28060201,   8.31304348,\n",
    "         8.34548495,   8.37792642,   8.41036789,   8.44280936,\n",
    "         8.47525084,   8.50769231,   8.54013378,   8.57257525,\n",
    "         8.60501672,   8.63745819,   8.66989967,   8.70234114,\n",
    "         8.73478261,   8.76722408,   8.79966555,   8.83210702,\n",
    "         8.86454849,   8.89698997,   8.92943144,   8.96187291,\n",
    "         8.99431438,   9.02675585,   9.05919732,   9.0916388 ,\n",
    "         9.12408027,   9.15652174,   9.18896321,   9.22140468,\n",
    "         9.25384615,   9.28628763,   9.3187291 ,   9.35117057,\n",
    "         9.38361204,   9.41605351,   9.44849498,   9.48093645,\n",
    "         9.51337793,   9.5458194 ,   9.57826087,   9.61070234,\n",
    "         9.64314381,   9.67558528,   9.70802676,   9.74046823,\n",
    "         9.7729097 ,   9.80535117,   9.83779264,   9.87023411,\n",
    "         9.90267559,   9.93511706,   9.96755853,  10.        ]\n",
    "\n",
    "y=[-0.19056796,  0.13314778,  0.39032789,  0.58490071,  0.72755027,\n",
    "        0.82941604,  0.90008145,  0.94719898,  0.97667411,  0.99299073,\n",
    "        0.99952869,  0.99882928,  0.99280334,  0.98288947,  0.97017273,\n",
    "        0.95547297,  0.93941048,  0.92245495,  0.90496191,  0.88720012,\n",
    "        0.86937208,  0.85162961,  0.83408561,  0.81682308,  0.79990193,\n",
    "        0.78336433,  0.76723876,  0.75154314,  0.7362873 ,  0.72147487,\n",
    "        0.70710477,  0.69317237,  0.67967038,  0.66658956,  0.65391928,\n",
    "        0.64164796,  0.62976339,  0.61825301,  0.60710407,  0.59630386,\n",
    "        0.58583975,  0.57569933,  0.56587047,  0.55634135,  0.5471005 ,\n",
    "        0.53813683,  0.52943965,  0.52099866,  0.51280394,  0.50484599,\n",
    "        0.49711569,  0.48960429,  0.48230342,  0.47520507,  0.46830157,\n",
    "        0.4615856 ,  0.45505012,  0.44868845,  0.44249417,  0.43646114,\n",
    "        0.43058352,  0.42485569,  0.4192723 ,  0.41382821,  0.40851854,\n",
    "        0.40333859,  0.39828387,  0.39335008,  0.38853312,  0.38382904,\n",
    "        0.37923407,  0.37474459,  0.37035715,  0.36606841,  0.3618752 ,\n",
    "        0.35777446,  0.35376325,  0.34983877,  0.34599831,  0.34223928,\n",
    "        0.33855919,  0.33495564,  0.33142632,  0.32796903,  0.32458163,\n",
    "        0.32126208,  0.3180084 ,  0.3148187 ,  0.31169115,  0.30862399,\n",
    "        0.30561552,  0.30266411,  0.29976818,  0.29692621,  0.29413673,\n",
    "        0.29139834,  0.28870966,  0.28606938,  0.28347622,  0.28092895,\n",
    "        0.27842639,  0.27596739,  0.27355084,  0.27117567,  0.26884083,\n",
    "        0.26654532,  0.26428818,  0.26206846,  0.25988525,  0.25773767,\n",
    "        0.25562487,  0.25354602,  0.25150031,  0.24948698,  0.24750527,\n",
    "        0.24555444,  0.24363379,  0.24174264,  0.23988032,  0.23804617,\n",
    "        0.23623958,  0.23445993,  0.23270663,  0.2309791 ,  0.2292768 ,\n",
    "        0.22759917,  0.22594568,  0.22431583,  0.22270912,  0.22112506,\n",
    "        0.21956318,  0.21802302,  0.21650414,  0.2150061 ,  0.21352848,\n",
    "        0.21207087,  0.21063286,  0.20921408,  0.20781413,  0.20643266,\n",
    "        0.20506929,  0.20372368,  0.20239549,  0.20108438,  0.19979003,\n",
    "        0.19851212,  0.19725034,  0.19600439,  0.19477398,  0.19355882,\n",
    "        0.19235862,  0.19117313,  0.19000206,  0.18884517,  0.18770219,\n",
    "        0.18657288,  0.18545699,  0.1843543 ,  0.18326456,  0.18218756,\n",
    "        0.18112306,  0.18007087,  0.17903076,  0.17800253,  0.17698598,\n",
    "        0.17598091,  0.17498713,  0.17400446,  0.1730327 ,  0.17207168,\n",
    "        0.17112122,  0.17018115,  0.1692513 ,  0.16833151,  0.16742161,\n",
    "        0.16652145,  0.16563087,  0.16474972,  0.16387786,  0.16301513,\n",
    "        0.16216139,  0.16131651,  0.16048035,  0.15965278,  0.15883366,\n",
    "        0.15802286,  0.15722027,  0.15642575,  0.15563919,  0.15486047,\n",
    "        0.15408947,  0.15332608,  0.15257018,  0.15182167,  0.15108044,\n",
    "        0.15034639,  0.14961941,  0.14889939,  0.14818625,  0.14747988,\n",
    "        0.14678019,  0.14608708,  0.14540046,  0.14472024,  0.14404634,\n",
    "        0.14337866,  0.14271712,  0.14206163,  0.14141212,  0.1407685 ,\n",
    "        0.14013069,  0.13949862,  0.1388722 ,  0.13825137,  0.13763605,\n",
    "        0.13702616,  0.13642163,  0.1358224 ,  0.13522839,  0.13463954,\n",
    "        0.13405578,  0.13347705,  0.13290327,  0.1323344 ,  0.13177035,\n",
    "        0.13121109,  0.13065653,  0.13010663,  0.12956133,  0.12902056,\n",
    "        0.12848428,  0.12795242,  0.12742494,  0.12690177,  0.12638288,\n",
    "        0.12586819,  0.12535768,  0.12485127,  0.12434893,  0.12385061,\n",
    "        0.12335625,  0.12286581,  0.12237925,  0.12189652,  0.12141757,\n",
    "        0.12094236,  0.12047084,  0.12000298,  0.11953873,  0.11907805,\n",
    "        0.1186209 ,  0.11816724,  0.11771703,  0.11727022,  0.11682679,\n",
    "        0.11638669,  0.11594988,  0.11551634,  0.11508601,  0.11465888,\n",
    "        0.11423489,  0.11381403,  0.11339624,  0.11298151,  0.11256979,\n",
    "        0.11216106,  0.11175527,  0.11135241,  0.11095243,  0.11055531,\n",
    "        0.11016102,  0.10976953,  0.1093808 ,  0.10899481,  0.10861153,\n",
    "        0.10823093,  0.10785298,  0.10747766,  0.10710493,  0.10673478,\n",
    "        0.10636717,  0.10600208,  0.10563948,  0.10527936,  0.10492167,\n",
    "        0.1045664 ,  0.10421352,  0.10386302,  0.10351486,  0.10316902,\n",
    "        0.10282548,  0.10248422,  0.10214521,  0.10180843,  0.10147386,\n",
    "        0.10114148,  0.10081127,  0.1004832 ,  0.10015726,  0.09983342]"
   ]
  },
  {
   "cell_type": "code",
   "execution_count": 11,
   "metadata": {
    "collapsed": true
   },
   "outputs": [],
   "source": [
    "from bokeh.plotting import ColumnDataSource\n",
    "from bokeh.layouts import column\n",
    "# Create ColumnDataSource: source\n",
    "source = ColumnDataSource(data={'x': x, 'y': y})\n",
    "\n",
    "# Add a line to the plot\n",
    "plot.line('x', 'y', source=source)\n",
    "\n",
    "# Create a column layout: layout\n",
    "layout = column(widgetbox(slider), plot)\n",
    "\n",
    "# Add the layout to the current document\n",
    "curdoc().add_root(layout)"
   ]
  },
  {
   "cell_type": "markdown",
   "metadata": {},
   "source": [
    "Our job in this exercise is to use the slider's on_change() function to update the plot's data from the previous example. NumPy's sin() function will be used to update the y-axis data of the plot."
   ]
  },
  {
   "cell_type": "code",
   "execution_count": 12,
   "metadata": {
    "collapsed": true
   },
   "outputs": [],
   "source": [
    "# Define a callback function: callback\n",
    "def callback(attr, old, new):\n",
    "\n",
    "    # Read the current value of the slider: scale\n",
    "    scale = slider.value\n",
    "\n",
    "    # Compute the updated y using np.sin(scale/x): new_y\n",
    "    new_y = np.sin(scale/x)\n",
    "\n",
    "    # Update source with the new data values\n",
    "    source.data = {'x':x, 'y':new_y}\n",
    "\n",
    "# Attach the callback to the 'value' property of slider\n",
    "slider.on_change('value',callback)\n",
    "\n",
    "# Create layout and add to current document\n",
    "layout = column(widgetbox(slider), plot)\n",
    "curdoc().add_root(layout)"
   ]
  },
  {
   "cell_type": "markdown",
   "metadata": {},
   "source": [
    "## Updating plots from drop down menus"
   ]
  },
  {
   "cell_type": "code",
   "execution_count": 15,
   "metadata": {
    "collapsed": true
   },
   "outputs": [],
   "source": [
    "import pandas as pd\n",
    "from bokeh.layouts import column,row\n",
    "df=pd.read_csv('literacy_birth_rate.csv')\n",
    "female_literacy=df['female literacy']\n",
    "fertility=df['fertility']\n",
    "#Perform necessary imports\n",
    "from bokeh.models import ColumnDataSource, Select\n",
    "\n",
    "# Create ColumnDataSource: source\n",
    "source = ColumnDataSource(data={\n",
    "    'x' : fertility,\n",
    "    'y' : female_literacy\n",
    "})\n",
    "\n",
    "# Create a new plot: plot\n",
    "plot = figure()\n",
    "\n",
    "# Add circles to the plot\n",
    "plot.circle('x', 'y', source=source)\n",
    "\n",
    "# Define a callback function: update_plot\n",
    "def update_plot(attr, old, new):\n",
    "    # If the new Selection is 'female_literacy', update 'y' to female_literacy\n",
    "    if new == 'female_literacy': \n",
    "        source.data = {\n",
    "            'x' : fertility,\n",
    "            'y' : female_literacy\n",
    "        }\n",
    "    # Else, update 'y' to population\n",
    "    else:\n",
    "        source.data = {\n",
    "            'x' : fertility,\n",
    "            'y' : population\n",
    "        }\n",
    "\n",
    "# Create a dropdown Select widget: select    \n",
    "select = Select(title=\"distribution\", options=['female_literacy', 'population'], value='female_literacy')\n",
    "\n",
    "# Attach the update_plot callback to the 'value' property of select\n",
    "select.on_change('value', update_plot)\n",
    "\n",
    "# Create layout and add to current document\n",
    "layout = row(select, plot)\n",
    "curdoc().add_root(layout)\n"
   ]
  },
  {
   "cell_type": "markdown",
   "metadata": {},
   "source": [
    "## Synchronize two dropdowns\n",
    "\n",
    "Here, we'll practice using a dropdown callback to update another dropdown's options. This will allow us to customize our applications even further and is a powerful addition to our toolbox.\n",
    "\n",
    "Our job in this exercise is to create two dropdown , select widgets and then define a callback such that one dropdown is used to update the other dropdown."
   ]
  },
  {
   "cell_type": "code",
   "execution_count": 16,
   "metadata": {
    "collapsed": true
   },
   "outputs": [],
   "source": [
    "# Create two dropdown Select widgets: select1, select2\n",
    "select1 = Select(title='First', options=['A', 'B'], value='A')\n",
    "select2 = Select(title='Second', options=['1', '2', '3'], value='1')\n",
    "\n",
    "# Define a callback function: callback\n",
    "def callback(attr, old, new):\n",
    "    # If select1 is 'A' \n",
    "    if select1.value =='A':\n",
    "        # Set select2 options to ['1', '2', '3']\n",
    "        select2.options = ['1','2','3']\n",
    "\n",
    "        # Set select2 value to '1'\n",
    "        select2.value = '1'\n",
    "    else:\n",
    "        # Set select2 options to ['100', '200', '300']\n",
    "        select2.options = ['100','200','300']\n",
    "\n",
    "        # Set select2 value to '100'\n",
    "        select2.value = '100'\n",
    "\n",
    "# Attach the callback to the 'value' property of select1\n",
    "select1.on_change('value',callback)\n",
    "\n",
    "# Create layout and add to current document\n",
    "layout = widgetbox(select1, select2)\n",
    "curdoc().add_root(layout)\n"
   ]
  },
  {
   "cell_type": "markdown",
   "metadata": {},
   "source": [
    "# Buttons"
   ]
  },
  {
   "cell_type": "markdown",
   "metadata": {},
   "source": [
    "### Button widgets"
   ]
  },
  {
   "cell_type": "code",
   "execution_count": 18,
   "metadata": {
    "collapsed": true
   },
   "outputs": [],
   "source": [
    "from bokeh.models import Button\n",
    "# Create a Button with label 'Update Data'\n",
    "button = Button(label='Update Data')\n",
    "\n",
    "# Define an update callback with no arguments: update\n",
    "def update():\n",
    "\n",
    "    # Compute new y values: y\n",
    "    y= np.sin(x) + np.random.random(N)\n",
    "\n",
    "    # Update the ColumnDataSource data dictionary\n",
    "    source.data = {'x':x,'y':y}\n",
    "\n",
    "# Add the update callback to the button\n",
    "button.on_click(update)\n",
    "\n",
    "# Create layout and add to current document\n",
    "layout = column(widgetbox(button), plot)\n",
    "curdoc().add_root(layout)"
   ]
  },
  {
   "cell_type": "code",
   "execution_count": 19,
   "metadata": {
    "collapsed": true
   },
   "outputs": [],
   "source": [
    "# Import CheckboxGroup, RadioGroup, Toggle from bokeh.models\n",
    "from bokeh.models import CheckboxGroup, RadioGroup, Toggle\n",
    "\n",
    "# Add a Toggle: toggle\n",
    "toggle = Toggle(label='Toggle button',button_type='success')\n",
    "\n",
    "# Add a CheckboxGroup: checkbox\n",
    "checkbox = CheckboxGroup(labels=['Option 1', 'Option 2', 'Option 3'])\n",
    "\n",
    "# Add a RadioGroup: radio\n",
    "radio =RadioGroup(labels=['Option 1', 'Option 2', 'Option 3'])\n",
    "\n",
    "# Add widgetbox(toggle, checkbox, radio) to the current document\n",
    "curdoc().add_root(widgetbox(toggle,checkbox,radio))"
   ]
  },
  {
   "cell_type": "code",
   "execution_count": null,
   "metadata": {
    "collapsed": true
   },
   "outputs": [],
   "source": []
  }
 ],
 "metadata": {
  "kernelspec": {
   "display_name": "Python 3",
   "language": "python",
   "name": "python3"
  },
  "language_info": {
   "codemirror_mode": {
    "name": "ipython",
    "version": 3
   },
   "file_extension": ".py",
   "mimetype": "text/x-python",
   "name": "python",
   "nbconvert_exporter": "python",
   "pygments_lexer": "ipython3",
   "version": "3.6.1"
  }
 },
 "nbformat": 4,
 "nbformat_minor": 2
}
