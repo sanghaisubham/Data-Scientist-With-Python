{
 "cells": [
  {
   "cell_type": "markdown",
   "metadata": {
    "collapsed": true
   },
   "source": [
    "## Setup the Engine and MetaData"
   ]
  },
  {
   "cell_type": "code",
   "execution_count": 16,
   "metadata": {
    "collapsed": true
   },
   "outputs": [],
   "source": [
    "# Import create_engine, MetaData\n",
    "from sqlalchemy import create_engine,MetaData\n",
    "\n",
    "# Define an engine to connect to chapter5.sqlite: engine\n",
    "engine = create_engine('sqlite:///chapter5.sqlite')\n",
    "\n",
    "# Initialize MetaData: metadata\n",
    "metadata =MetaData()\n"
   ]
  },
  {
   "cell_type": "code",
   "execution_count": 17,
   "metadata": {
    "collapsed": true
   },
   "outputs": [],
   "source": [
    "# Import Table, Column, String, and Integer\n",
    "from sqlalchemy import Table, Column, String, Integer\n",
    "\n",
    "# Build a census table: census\n",
    "census = Table('census', metadata,\n",
    "               Column('state', String(30)),\n",
    "               Column('sex', String(1)),\n",
    "               Column('age', Integer()),\n",
    "               Column('pop2000', Integer()),\n",
    "               Column('pop2008', Integer()))\n",
    "\n",
    "# Create the table in the database\n",
    "metadata.create_all(engine)\n"
   ]
  },
  {
   "cell_type": "markdown",
   "metadata": {},
   "source": [
    "## Reading the Data from the CSV"
   ]
  },
  {
   "cell_type": "code",
   "execution_count": 18,
   "metadata": {
    "collapsed": true
   },
   "outputs": [],
   "source": [
    "# Create an empty list: values_list\n",
    "import csv\n",
    "values_list =[]\n",
    "f=open('census.csv')\n",
    "csv_reader=csv.reader(f)\n",
    "    # Iterate over the rows\n",
    "for row in csv_reader:\n",
    "        # Create a dictionary with the values\n",
    "    data = {'state': row[0],'sex': row[1],'age':row[2],'pop2000':row[3],\n",
    "                'pop2008':row[4]}\n",
    "        # Append the dictionary to the values list\n",
    "    values_list.append(data)\n",
    "f.close()"
   ]
  },
  {
   "cell_type": "markdown",
   "metadata": {},
   "source": [
    "## Load Data from a list into the Table\n",
    "\n",
    "Using the multiple insert pattern, we will load the data from values_list into the table."
   ]
  },
  {
   "cell_type": "code",
   "execution_count": 14,
   "metadata": {},
   "outputs": [
    {
     "name": "stdout",
     "output_type": "stream",
     "text": [
      "8772\n"
     ]
    }
   ],
   "source": [
    "# Import insert\n",
    "from sqlalchemy import insert\n",
    "\n",
    "# Build insert statement: stmt\n",
    "stmt=insert(census)\n",
    "\n",
    "# Use values_list to insert data: results\n",
    "results=engine.execute(stmt,values_list)\n",
    "\n",
    "# Print rowcount\n",
    "print(results.rowcount)\n"
   ]
  },
  {
   "cell_type": "markdown",
   "metadata": {},
   "source": [
    "## Build a Query to Determine the Average Age by Population"
   ]
  },
  {
   "cell_type": "code",
   "execution_count": 20,
   "metadata": {},
   "outputs": [
    {
     "name": "stdout",
     "output_type": "stream",
     "text": [
      "F 38\n",
      "M 35\n"
     ]
    }
   ],
   "source": [
    "# Import select\n",
    "from sqlalchemy import select,func\n",
    "\n",
    "# Calculate weighted average age: stmt\n",
    "stmt = select([census.columns.sex,\n",
    "               (func.sum(census.columns.pop2008 * census.columns.age) /\n",
    "                func.sum(census.columns.pop2008)).label('average_age')\n",
    "               ])\n",
    "\n",
    "# Group by sex\n",
    "stmt = stmt.group_by(census.columns.sex)\n",
    "\n",
    "# Execute the query and store the results: results\n",
    "results = engine.execute(stmt).fetchall()\n",
    "\n",
    "# Print the average age by sex\n",
    "for result in results:\n",
    "    print(result.sex, result.average_age)\n"
   ]
  },
  {
   "cell_type": "markdown",
   "metadata": {},
   "source": [
    "## Build a Query to Determine the Percentage of Population by Gender and State"
   ]
  },
  {
   "cell_type": "code",
   "execution_count": 21,
   "metadata": {},
   "outputs": [
    {
     "name": "stdout",
     "output_type": "stream",
     "text": [
      "Alabama 51.8324077702\n",
      "Alaska 49.3014978935\n",
      "Arizona 50.2236130306\n",
      "Arkansas 51.2699284622\n",
      "California 50.3523321490\n",
      "Colorado 49.8476706030\n",
      "Connecticut 51.6681650713\n",
      "Delaware 51.6110973356\n",
      "District of Columbia 53.1296261417\n",
      "Florida 51.3648800117\n",
      "Georgia 51.1140835034\n",
      "Hawaii 51.1180118369\n",
      "Idaho 49.9897262390\n",
      "Illinois 51.1122423480\n",
      "Indiana 50.9548031330\n",
      "Iowa 50.9503983425\n",
      "Kansas 50.8218641078\n",
      "Kentucky 51.3268703693\n",
      "Louisiana 51.7535159655\n",
      "Maine 51.5057081342\n",
      "Maryland 51.9357554997\n",
      "Massachusetts 51.8430235713\n",
      "Michigan 50.9724651832\n",
      "Minnesota 50.4933294430\n",
      "Mississippi 51.9222948179\n",
      "Missouri 51.4688860264\n",
      "Montana 50.3220269073\n",
      "Nebraska 50.8584549336\n",
      "Nevada 49.3673636138\n",
      "New Hampshire 50.8580198450\n",
      "New Jersey 51.5171395613\n",
      "New Mexico 51.0471720798\n",
      "New York 51.8345386515\n",
      "North Carolina 51.4822623221\n",
      "North Dakota 50.5006936323\n",
      "Ohio 51.4655035002\n",
      "Oklahoma 51.1136245708\n",
      "Oregon 50.4294670362\n",
      "Pennsylvania 51.7404347305\n",
      "Rhode Island 52.0734339190\n",
      "South Carolina 51.7307212977\n",
      "South Dakota 50.5258358137\n",
      "Tennessee 51.4306896994\n",
      "Texas 50.5157216642\n",
      "Utah 49.9729527511\n",
      "Vermont 51.0185732099\n",
      "Virginia 51.6572524472\n",
      "Washington 50.5185650872\n",
      "West Virginia 51.4004231809\n",
      "Wisconsin 50.6148645265\n",
      "Wyoming 49.9459554265\n"
     ]
    },
    {
     "name": "stderr",
     "output_type": "stream",
     "text": [
      "C:\\Users\\Subham\\Anaconda3\\lib\\site-packages\\sqlalchemy\\sql\\sqltypes.py:596: SAWarning: Dialect sqlite+pysqlite does *not* support Decimal objects natively, and SQLAlchemy must convert from floating point - rounding errors and other issues may occur. Please consider storing Decimal numbers as strings or integers on this platform for lossless storage.\n",
      "  'storage.' % (dialect.name, dialect.driver))\n"
     ]
    }
   ],
   "source": [
    "# import case, cast and Float from sqlalchemy\n",
    "from sqlalchemy import case, cast, Float\n",
    "\n",
    "# Build a query to calculate the percentage of females in 2000: stmt\n",
    "stmt = select([census.columns.state,\n",
    "    (func.sum(\n",
    "        case([\n",
    "            (census.columns.sex == 'F', census.columns.pop2000)\n",
    "        ], else_=0)) /\n",
    "     cast(func.sum(census.columns.pop2000), Float) * 100).label('percent_female')\n",
    "])\n",
    "\n",
    "# Group By state\n",
    "stmt = stmt.group_by(census.columns.state)\n",
    "\n",
    "# Execute the query and store the results: results\n",
    "results = engine.execute(stmt).fetchall()\n",
    "\n",
    "# Print the percentage\n",
    "for result in results:\n",
    "    print(result.state, result.percent_female)\n"
   ]
  },
  {
   "cell_type": "markdown",
   "metadata": {},
   "source": [
    "## Build a Query to Determine the Difference by State from the 2000 and 2008 Censuses"
   ]
  },
  {
   "cell_type": "code",
   "execution_count": 25,
   "metadata": {},
   "outputs": [
    {
     "name": "stdout",
     "output_type": "stream",
     "text": [
      "California:105705\n",
      "Florida:100984\n",
      "Texas:51901\n",
      "New York:47098\n",
      "Pennsylvania:42387\n",
      "Arizona:29509\n",
      "Ohio:29392\n",
      "Illinois:26221\n",
      "Michigan:25126\n",
      "North Carolina:24108\n"
     ]
    }
   ],
   "source": [
    "from sqlalchemy import desc\n",
    "# Build query to return state name and population difference from 2008 to 2000\n",
    "stmt = select([census.columns.state,\n",
    "     (census.columns.pop2008-census.columns.pop2000).label('pop_change')\n",
    "])\n",
    "\n",
    "# Group by State\n",
    "stmt = stmt.group_by(census.columns.state)\n",
    "\n",
    "# Order by Population Change\n",
    "stmt = stmt.order_by(desc('pop_change'))\n",
    "\n",
    "# Limit to top 10\n",
    "stmt = stmt.limit(10)\n",
    "\n",
    "# Use connection to execute the statement and fetch all results\n",
    "results = engine.execute(stmt).fetchall()\n",
    "\n",
    "# Print the state an population change for each record\n",
    "for result in results:\n",
    "    print('{}:{}'.format(result.state, result.pop_change))\n"
   ]
  },
  {
   "cell_type": "code",
   "execution_count": null,
   "metadata": {
    "collapsed": true
   },
   "outputs": [],
   "source": []
  }
 ],
 "metadata": {
  "kernelspec": {
   "display_name": "Python 3",
   "language": "python",
   "name": "python3"
  },
  "language_info": {
   "codemirror_mode": {
    "name": "ipython",
    "version": 3
   },
   "file_extension": ".py",
   "mimetype": "text/x-python",
   "name": "python",
   "nbconvert_exporter": "python",
   "pygments_lexer": "ipython3",
   "version": "3.6.1"
  }
 },
 "nbformat": 4,
 "nbformat_minor": 2
}
